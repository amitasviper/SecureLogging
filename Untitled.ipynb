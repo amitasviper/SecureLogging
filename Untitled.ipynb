{
 "cells": [
  {
   "cell_type": "code",
   "execution_count": 1,
   "metadata": {
    "collapsed": true
   },
   "outputs": [],
   "source": [
    "import utils"
   ]
  },
  {
   "cell_type": "code",
   "execution_count": 7,
   "metadata": {
    "collapsed": true
   },
   "outputs": [],
   "source": [
    "pkey = \"\"\"-----BEGIN PUBLIC KEY-----\n",
    "MIIBIjANBgkqhkiG9w0BAQEFAAOCAQ8AMIIBCgKCAQEAuJBLKjTfPD6TyXOGyH7S\n",
    "ZAHWkkOud/vDLzdK/ZAAic35tbNbnHGguhinKcuApn4HcLEAa3YT1HoEHXr5+YOq\n",
    "hQeG/QJ+XMaO/CPP6mKnAExkx7DIcRJiMZWRe1xaRo4vh32fWJ89M+H4OVho4GSn\n",
    "LtdUGizFEogbbMKeK8Rm96+Afbu6vKgEYafQ6V45XlI1ur8iC/S0I0+ht7DzIi8y\n",
    "p7WdRpsw0KfrBry8Cvhkn0kqyh8n8MEsaG83eIC+nKOfcjVXfG/jSlFxymVNjECI\n",
    "YhSPn4SYT64fTLP346OLqxYhkjZQ9yKuOG+PTWSJ7qINvbRgdkQb95Pz5ftaNk7D\n",
    "dwIDAQAB\n",
    "-----END PUBLIC KEY-----\"\"\""
   ]
  },
  {
   "cell_type": "code",
   "execution_count": 14,
   "metadata": {
    "collapsed": true
   },
   "outputs": [],
   "source": [
    "data=\"\"\"accumulator=00000000000000000000000000000000000000000000000000000000000000000001000100000000000000000000000000000000000000000000000010000000100000000100000000010000000000000000000000010000000000000000000010000000000000000010100000000001000000000010000000000000000000000000000000000000000000000000000000000000000000000010000000000000001000000010000000000010010000000000000000010000001000000000000000000000000000000000000000000010001000000010010000101000100000000000000000001000010000010000000010000000000000000000000000100000000000000000000000000010000000000000000000000000000000000000000000000000000000000000000000000000000000010000000000100000000010000000010000000001000000000000000000000000000000000000000000000000000000000000000000000000100001000000000000000000100000000000000000000000000100000000001000000100000000000010000000000000000000000100011010000000000000000000000000010000000000000000000000010000000000001001000000000000100001000100000000000000000000000000000,time=2016-07-31T00:58:11.003789\"\"\""
   ]
  },
  {
   "cell_type": "code",
   "execution_count": 15,
   "metadata": {
    "collapsed": false
   },
   "outputs": [],
   "source": [
    "sig = \"epPPnIGaJWglyhsD5wNcJ0+dBkQzapzyIyujtD7quw7F7SeOcKMLpxb1sTTwkieXvhnlZzIITHy8K+IZd7IBWM36XMN3R2vXOvK0qsTwV31L5Ukfb7OJn3/o9B2UKzajw6InCYFvRVZLqWzg0pK+hbNvpaLX47dTxTihyQOxXZzs/eFCBMlp4CxjqNNQlUgO7k9kBprOlCLvqU8WPCPLfZIfgd1nXn2Z/+TFMCDAo1jH1sH9uzU3Dx7GwxonUkITvcKWvricIyyrU2zggdyIVeY7kkFV6VCp0bk9U9C5cDbmjACJrjBi6YObcXIOozrzuSnrEO2bjQATLj6/dzq9qQ==\""
   ]
  },
  {
   "cell_type": "code",
   "execution_count": 16,
   "metadata": {
    "collapsed": false
   },
   "outputs": [
    {
     "name": "stdout",
     "output_type": "stream",
     "text": [
      "Authenticity Verification PASSED\n"
     ]
    }
   ],
   "source": [
    "utils.VerifySignature(pkey, data, sig)"
   ]
  },
  {
   "cell_type": "code",
   "execution_count": 18,
   "metadata": {
    "collapsed": false
   },
   "outputs": [
    {
     "data": {
      "text/plain": [
       "['__all__',\n",
       " '__builtins__',\n",
       " '__doc__',\n",
       " '__file__',\n",
       " '__name__',\n",
       " '__package__',\n",
       " '_joinrealpath',\n",
       " '_unicode',\n",
       " '_uvarprog',\n",
       " '_varprog',\n",
       " 'abspath',\n",
       " 'altsep',\n",
       " 'basename',\n",
       " 'commonprefix',\n",
       " 'curdir',\n",
       " 'defpath',\n",
       " 'devnull',\n",
       " 'dirname',\n",
       " 'exists',\n",
       " 'expanduser',\n",
       " 'expandvars',\n",
       " 'extsep',\n",
       " 'genericpath',\n",
       " 'getatime',\n",
       " 'getctime',\n",
       " 'getmtime',\n",
       " 'getsize',\n",
       " 'isabs',\n",
       " 'isdir',\n",
       " 'isfile',\n",
       " 'islink',\n",
       " 'ismount',\n",
       " 'join',\n",
       " 'lexists',\n",
       " 'normcase',\n",
       " 'normpath',\n",
       " 'os',\n",
       " 'pardir',\n",
       " 'pathsep',\n",
       " 'realpath',\n",
       " 'relpath',\n",
       " 'samefile',\n",
       " 'sameopenfile',\n",
       " 'samestat',\n",
       " 'sep',\n",
       " 'split',\n",
       " 'splitdrive',\n",
       " 'splitext',\n",
       " 'stat',\n",
       " 'supports_unicode_filenames',\n",
       " 'sys',\n",
       " 'walk',\n",
       " 'warnings']"
      ]
     },
     "execution_count": 18,
     "metadata": {},
     "output_type": "execute_result"
    }
   ],
   "source": [
    "import os\n",
    "dir(os.path)"
   ]
  },
  {
   "cell_type": "code",
   "execution_count": 20,
   "metadata": {
    "collapsed": false
   },
   "outputs": [
    {
     "name": "stdout",
     "output_type": "stream",
     "text": [
      "Help on function split in module posixpath:\n",
      "\n",
      "split(p)\n",
      "    Split a pathname.  Returns tuple \"(head, tail)\" where \"tail\" is\n",
      "    everything after the final slash.  Either part may be empty.\n",
      "\n"
     ]
    }
   ],
   "source": [
    "help(os.path.split)"
   ]
  },
  {
   "cell_type": "code",
   "execution_count": null,
   "metadata": {
    "collapsed": true
   },
   "outputs": [],
   "source": []
  }
 ],
 "metadata": {
  "kernelspec": {
   "display_name": "Python 2",
   "language": "python",
   "name": "python2"
  },
  "language_info": {
   "codemirror_mode": {
    "name": "ipython",
    "version": 2
   },
   "file_extension": ".py",
   "mimetype": "text/x-python",
   "name": "python",
   "nbconvert_exporter": "python",
   "pygments_lexer": "ipython2",
   "version": "2.7.10"
  }
 },
 "nbformat": 4,
 "nbformat_minor": 0
}
