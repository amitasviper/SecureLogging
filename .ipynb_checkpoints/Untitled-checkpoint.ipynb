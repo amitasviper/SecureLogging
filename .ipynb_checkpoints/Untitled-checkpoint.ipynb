{
 "cells": [
  {
   "cell_type": "code",
   "execution_count": 1,
   "metadata": {
    "collapsed": true
   },
   "outputs": [],
   "source": [
    "import utils"
   ]
  },
  {
   "cell_type": "code",
   "execution_count": 7,
   "metadata": {
    "collapsed": true
   },
   "outputs": [],
   "source": [
    "pkey = \"\"\"-----BEGIN PUBLIC KEY-----\n",
    "MIIBIjANBgkqhkiG9w0BAQEFAAOCAQ8AMIIBCgKCAQEAuJBLKjTfPD6TyXOGyH7S\n",
    "ZAHWkkOud/vDLzdK/ZAAic35tbNbnHGguhinKcuApn4HcLEAa3YT1HoEHXr5+YOq\n",
    "hQeG/QJ+XMaO/CPP6mKnAExkx7DIcRJiMZWRe1xaRo4vh32fWJ89M+H4OVho4GSn\n",
    "LtdUGizFEogbbMKeK8Rm96+Afbu6vKgEYafQ6V45XlI1ur8iC/S0I0+ht7DzIi8y\n",
    "p7WdRpsw0KfrBry8Cvhkn0kqyh8n8MEsaG83eIC+nKOfcjVXfG/jSlFxymVNjECI\n",
    "YhSPn4SYT64fTLP346OLqxYhkjZQ9yKuOG+PTWSJ7qINvbRgdkQb95Pz5ftaNk7D\n",
    "dwIDAQAB\n",
    "-----END PUBLIC KEY-----\"\"\""
   ]
  },
  {
   "cell_type": "code",
   "execution_count": 25,
   "metadata": {
    "collapsed": true
   },
   "outputs": [],
   "source": [
    "data=\"\"\"ccumulator=00010110010000000001000010000000010000010000100000000100101000010000101000000000000000000000000000000000000000100000010110000000000000000000000000000000010000000000100000100000010000000000000000100000000000000000000000000000100000000000101000010000100000010000000000000001000000000010000010010000000010000000000100000000000000000000010000000000000000000000100100001010010000011100000100100000000000000100000000000000000000000000000000000011000001000000010000000000100010000000000000000000000010000010000000000000000000000000000000001000000000000000011000000000000001000000001000010000000000000000000000000000000000000000000000000000000000000000000010010000000000000000000000000000000000001000000000000100010000000010100011000000010000000000000000000000001000000000000000000001100000000000000000000000000000000000000010000000000001000010000010000000000000000000000000100000100000000010010000000000000010000000000000000000001001000000000000010000001000000010010,time=2016-07-31T00:58:10.993653\"\"\""
   ]
  },
  {
   "cell_type": "code",
   "execution_count": 26,
   "metadata": {
    "collapsed": false
   },
   "outputs": [],
   "source": [
    "sig = \"nm5oAn/tDL5BR8LdKDp/7V7XI8J9Dfip+fk7pOyIAtwAFpUqqb2NQhL+yTboenSs7Fb4u1/EVGFbJRdtKSKiYrDJE6PkQVq3uRtgifyq5saNS/SKyz48OVVTPiUP0Fx+E4IjJWETrqoBv0DS8TopIXM9XRTQycXcvIexRbRg+2By0mwNBmvaA1yFjw16MpFIFISNdMDCITH0WU62GKA5F7kphfDMMo3+sC+cH4BuwbV4crk4lk5AkS7P1vnH5fM2sapfx3Y1sj0nCVtROZM47AOhot90wy2MyP0lKKDtAjxMs0BK99oadWzQXVrajoHmPCwfXxKlTRijXT/UtsfuWQ==\""
   ]
  },
  {
   "cell_type": "code",
   "execution_count": 27,
   "metadata": {
    "collapsed": false
   },
   "outputs": [
    {
     "name": "stdout",
     "output_type": "stream",
     "text": [
      "Authenticity Verification PASSED\n"
     ]
    }
   ],
   "source": [
    "utils.VerifySignature(pkey, data, sig)"
   ]
  },
  {
   "cell_type": "code",
   "execution_count": 24,
   "metadata": {
    "collapsed": false
   },
   "outputs": [],
   "source": [
    "import os"
   ]
  },
  {
   "cell_type": "code",
   "execution_count": 20,
   "metadata": {
    "collapsed": false
   },
   "outputs": [
    {
     "name": "stdout",
     "output_type": "stream",
     "text": [
      "Help on function split in module posixpath:\n",
      "\n",
      "split(p)\n",
      "    Split a pathname.  Returns tuple \"(head, tail)\" where \"tail\" is\n",
      "    everything after the final slash.  Either part may be empty.\n",
      "\n"
     ]
    }
   ],
   "source": [
    "help(os.path.split)"
   ]
  },
  {
   "cell_type": "code",
   "execution_count": null,
   "metadata": {
    "collapsed": true
   },
   "outputs": [],
   "source": []
  }
 ],
 "metadata": {
  "kernelspec": {
   "display_name": "Python 2",
   "language": "python",
   "name": "python2"
  },
  "language_info": {
   "codemirror_mode": {
    "name": "ipython",
    "version": 2
   },
   "file_extension": ".py",
   "mimetype": "text/x-python",
   "name": "python",
   "nbconvert_exporter": "python",
   "pygments_lexer": "ipython2",
   "version": "2.7.10"
  }
 },
 "nbformat": 4,
 "nbformat_minor": 0
}
